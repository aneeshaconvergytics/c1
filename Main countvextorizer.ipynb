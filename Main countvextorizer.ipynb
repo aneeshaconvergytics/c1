{
 "cells": [
  {
   "cell_type": "code",
   "execution_count": 45,
   "id": "d06a8998",
   "metadata": {},
   "outputs": [],
   "source": [
    "from sklearn.feature_extraction.text import CountVectorizer\n",
    "import pandas as pd"
   ]
  },
  {
   "cell_type": "code",
   "execution_count": 46,
   "id": "a9b88a27",
   "metadata": {},
   "outputs": [],
   "source": [
    "queries=['The intent of this non-binding indicative term sheet (“TermSheet”) is to describe, for negotiation purposes only, some ofthe key terms of the proposed agreement between herein-named Investor,Company and Promoter (collectively, “the Parties”) inconnection with a proposed investment by the Investor (or at its solediscretion, any one of its nominees or affiliates) in the Company.']"
   ]
  },
  {
   "cell_type": "code",
   "execution_count": 47,
   "id": "5610f468",
   "metadata": {},
   "outputs": [],
   "source": [
    "matches=['“Closing” and “Closing Date” shallhave the meanings given to the respective terms under the SubscriptionAgreement;',\n",
    "        '“ACRA” means the Accounting and Corporate RegulatoryAuthority of Singapore;',\n",
    "        'The Parties hereby agree that, notwithstanding the above, thereexists no commitment by the Investors or their Affiliates to furthercapitalise the Company or to provide finance or any other form ofsupport to the Company, including in the form of loans or guarantees orany security.',\n",
    "        'The Investors, the Founders, the Other Shareholder and the Companyshall be individually referred to as a “Party” andcollectively referred to as the “Parties”, as thecontext may require.',\n",
    "         'Each Investor shall reasonably cooperate with the Company toprovide information about such Investor in order to enable the Company’stax advisors to determine the status of such Investor as a “UnitedStates Shareholder” within the meaning of Section 951(b) of theCode.'\n",
    "]"
   ]
  },
  {
   "cell_type": "code",
   "execution_count": 50,
   "id": "237c6195",
   "metadata": {},
   "outputs": [],
   "source": [
    "\n",
    "def Count_Vectorizer(queries,i):\n",
    "    matched_keyword=[]\n",
    "    queries_matches=[queries,i]\n",
    "    coun_vect = CountVectorizer(lowercase=False,stop_words='english')\n",
    "    count_matrix = coun_vect.fit_transform(queries_matches)\n",
    "    counts = pd.DataFrame(count_matrix.toarray(),columns=coun_vect.get_feature_names())   \n",
    "    #print(\"counts\",counts)\n",
    "    for i in counts:\n",
    "            if (counts[i][0]==counts[i][1]) & (counts[i][0]!=0):\n",
    "                 matched_keyword.append(i)\n",
    "    #print(\"matched_keyword\",matched_keyword)\n",
    "    return matched_keyword\n",
    "    \n",
    "    \n",
    "\n",
    "\n",
    "def checking_keywords(\n",
    "    queries:queries,\n",
    "    matches:matches\n",
    "):  \n",
    "    a={}\n",
    "    for i in matches:\n",
    "        output=Count_Vectorizer(queries[0],i)\n",
    "        a[i]=output\n",
    "    return a  "
   ]
  },
  {
   "cell_type": "code",
   "execution_count": 49,
   "id": "6fea2b7b",
   "metadata": {},
   "outputs": [
    {
     "name": "stdout",
     "output_type": "stream",
     "text": [
      "matched_keyword ['terms']\n",
      "matched_keyword []\n",
      "matched_keyword ['Company', 'Parties', 'The']\n",
      "matched_keyword ['Parties', 'The']\n",
      "matched_keyword ['Company']\n"
     ]
    },
    {
     "data": {
      "text/plain": [
       "{'“Closing” and “Closing Date” shallhave the meanings given to the respective terms under the SubscriptionAgreement;': ['terms'],\n",
       " '“ACRA” means the Accounting and Corporate RegulatoryAuthority of Singapore;': [],\n",
       " 'The Parties hereby agree that, notwithstanding the above, thereexists no commitment by the Investors or their Affiliates to furthercapitalise the Company or to provide finance or any other form ofsupport to the Company, including in the form of loans or guarantees orany security.': ['Company',\n",
       "  'Parties',\n",
       "  'The'],\n",
       " 'The Investors, the Founders, the Other Shareholder and the Companyshall be individually referred to as a “Party” andcollectively referred to as the “Parties”, as thecontext may require.': ['Parties',\n",
       "  'The'],\n",
       " 'Each Investor shall reasonably cooperate with the Company toprovide information about such Investor in order to enable the Company’stax advisors to determine the status of such Investor as a “UnitedStates Shareholder” within the meaning of Section 951(b) of theCode.': ['Company']}"
      ]
     },
     "execution_count": 49,
     "metadata": {},
     "output_type": "execute_result"
    }
   ],
   "source": [
    " checking_keywords(queries,matches) "
   ]
  },
  {
   "cell_type": "code",
   "execution_count": null,
   "id": "a249511c",
   "metadata": {},
   "outputs": [],
   "source": []
  }
 ],
 "metadata": {
  "kernelspec": {
   "display_name": "Python 3 (ipykernel)",
   "language": "python",
   "name": "python3"
  },
  "language_info": {
   "codemirror_mode": {
    "name": "ipython",
    "version": 3
   },
   "file_extension": ".py",
   "mimetype": "text/x-python",
   "name": "python",
   "nbconvert_exporter": "python",
   "pygments_lexer": "ipython3",
   "version": "3.9.7"
  }
 },
 "nbformat": 4,
 "nbformat_minor": 5
}
